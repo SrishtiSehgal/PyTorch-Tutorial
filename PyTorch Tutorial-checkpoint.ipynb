{
 "cells": [
  {
   "cell_type": "markdown",
   "metadata": {},
   "source": [
    "*Modules to download*"
   ]
  },
  {
   "cell_type": "code",
   "execution_count": 1,
   "metadata": {},
   "outputs": [],
   "source": [
    "import torch\n",
    "import numpy as np"
   ]
  },
  {
   "cell_type": "code",
   "execution_count": 16,
   "metadata": {},
   "outputs": [
    {
     "name": "stdout",
     "output_type": "stream",
     "text": [
      "Original Data\n",
      "[[1 2 3 4]\n",
      " [5 6 7 8]]\n",
      "Converted to torch object torch.IntTensor\n",
      "tensor([[1, 2, 3, 4],\n",
      "        [5, 6, 7, 8]], dtype=torch.int32)\n",
      "Converted to numpy int32\n",
      "[[1 2 3 4]\n",
      " [5 6 7 8]]\n"
     ]
    }
   ],
   "source": [
    "#convert numpy to tensor or vice versa\n",
    "X_original=np.array([[1,2,3,4],[5,6,7,8]])\n",
    "print('Original Data')\n",
    "print(X_original)\n",
    "X_torch = torch.from_numpy(X_original)\n",
    "print('Converted to torch object', X_torch.type())\n",
    "print(X_torch)\n",
    "X_numpy = X_torch.numpy()\n",
    "print('Converted to numpy', X_numpy.dtype)\n",
    "print(X_numpy)"
   ]
  },
  {
   "cell_type": "code",
   "execution_count": 17,
   "metadata": {},
   "outputs": [
    {
     "name": "stdout",
     "output_type": "stream",
     "text": [
      "Convert torch object to a float tensor object\n",
      "torch.FloatTensor\n",
      "tensor([[1., 2., 3., 4.],\n",
      "        [5., 6., 7., 8.]])\n",
      "sin\n",
      "tensor([[ 0.8415,  0.9093,  0.1411, -0.7568],\n",
      "        [-0.9589, -0.2794,  0.6570,  0.9894]])\n",
      "exp\n",
      "tensor([[2.7183e+00, 7.3891e+00, 2.0086e+01, 5.4598e+01],\n",
      "        [1.4841e+02, 4.0343e+02, 1.0966e+03, 2.9810e+03]])\n",
      "abs\n",
      "tensor([[0.8415, 0.9093, 0.1411, 0.7568],\n",
      "        [0.9589, 0.2794, 0.6570, 0.9894]])\n",
      "sigmoid\n",
      "tensor([[0.7311, 0.8808, 0.9526, 0.9820],\n",
      "        [0.9933, 0.9975, 0.9991, 0.9997]])\n",
      "mean\n",
      "tensor(4.5000)\n"
     ]
    }
   ],
   "source": [
    "#Math with PyTorch objects\n",
    "print('Convert torch object to a float tensor object')\n",
    "X_torch = X_torch.float()\n",
    "print(X_torch.type())\n",
    "print(X_torch)\n",
    "print('sin')\n",
    "print(torch.sin(X_torch))\n",
    "print('exp')\n",
    "print(X_torch.exp())\n",
    "print('abs')\n",
    "print(torch.sin(X_torch).abs())\n",
    "print('sigmoid')\n",
    "print(X_torch.sigmoid())\n",
    "print('mean')\n",
    "print(torch.mean(X_torch))"
   ]
  },
  {
   "cell_type": "code",
   "execution_count": 23,
   "metadata": {},
   "outputs": [
    {
     "name": "stdout",
     "output_type": "stream",
     "text": [
      "Convert numpy array to a float numpy array\n",
      "float64\n",
      "sin\n",
      "[[ 0.84147098  0.90929743  0.14112001 -0.7568025 ]\n",
      " [-0.95892427 -0.2794155   0.6569866   0.98935825]]\n",
      "exp\n",
      "[[2.71828183e+00 7.38905610e+00 2.00855369e+01 5.45981500e+01]\n",
      " [1.48413159e+02 4.03428793e+02 1.09663316e+03 2.98095799e+03]]\n",
      "abs\n",
      "[[0.84147098 0.90929743 0.14112001 0.7568025 ]\n",
      " [0.95892427 0.2794155  0.6569866  0.98935825]]\n",
      "mean\n",
      "4.5\n"
     ]
    }
   ],
   "source": [
    "#In contrast, math with numpy\n",
    "print('Convert numpy array to a float numpy array')\n",
    "X_numpy = X_numpy.astype(float)\n",
    "print(X_numpy.dtype)\n",
    "print('sin')\n",
    "print(np.sin(X_numpy))\n",
    "print('exp')\n",
    "print(np.exp(X_numpy))\n",
    "print('abs')\n",
    "print(np.abs(np.sin(X_numpy)))\n",
    "print('mean')\n",
    "print(np.mean(X_numpy))"
   ]
  }
 ],
 "metadata": {
  "kernelspec": {
   "display_name": "Python 3",
   "language": "python",
   "name": "python3"
  },
  "language_info": {
   "codemirror_mode": {
    "name": "ipython",
    "version": 3
   },
   "file_extension": ".py",
   "mimetype": "text/x-python",
   "name": "python",
   "nbconvert_exporter": "python",
   "pygments_lexer": "ipython3",
   "version": "3.6.5"
  }
 },
 "nbformat": 4,
 "nbformat_minor": 2
}
